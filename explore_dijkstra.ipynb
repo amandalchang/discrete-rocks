{
 "cells": [
  {
   "cell_type": "markdown",
   "metadata": {},
   "source": [
    "Process Data:"
   ]
  },
  {
   "cell_type": "code",
   "execution_count": 5,
   "metadata": {},
   "outputs": [
    {
     "data": {
      "text/plain": [
       "[0, 0]"
      ]
     },
     "execution_count": 5,
     "metadata": {},
     "output_type": "execute_result"
    }
   ],
   "source": [
    "import math\n",
    "\n",
    "# use math.dist() to find distances between points \n",
    "# store using dictionary adjacency list --> get complete graph\n",
    "# filter out to get new graph again\n",
    "# apply dijkstra's to get short path\n",
    "\n",
    "# getting the points. it's in order from a-w\n",
    "all_coordinates = {\n",
    "    [0,0],\n",
    "    [1.6, 0.6],\n",
    "    [1, 1],\n",
    "    [0.8, 1.8],\n",
    "    [1, 2.2],\n",
    "    [0, 3.4],\n",
    "    [2.2, 3.4],\n",
    "    [2.2, 4.6],\n",
    "    [0.6, 5.2],\n",
    "    [-1.2, 4.6],\n",
    "    [0, 5.8],\n",
    "    [-1.6, 6.4],\n",
    "    [2.2, 6.8],\n",
    "    [1.6, 7.4],\n",
    "    [0, 8],\n",
    "    [0, 9],\n",
    "    [-1.6, 9.6],\n",
    "    [0, 11],\n",
    "    [0, 12.2],\n",
    "    [2.2, 13.2],\n",
    "    [1.2, 14.2],\n",
    "    [1.6, 14.6],\n",
    "    [-0.4, 15.6]\n",
    "}\n",
    "\n",
    "# finding edge weights between all points. will be stored in a list (index is starting vertex) of lists (index is ending vertex)\n",
    "for i in len(all_coordinates):\n",
    "    for j in (i, len(all_coordinates)):\n",
    "\n",
    "        # outer loop index inner loop = math.dist([first point], [second point])\n"
   ]
  },
  {
   "cell_type": "markdown",
   "metadata": {},
   "source": [
    "Using build-in library:"
   ]
  },
  {
   "cell_type": "code",
   "execution_count": null,
   "metadata": {},
   "outputs": [],
   "source": []
  }
 ],
 "metadata": {
  "kernelspec": {
   "display_name": "Python 3",
   "language": "python",
   "name": "python3"
  },
  "language_info": {
   "codemirror_mode": {
    "name": "ipython",
    "version": 3
   },
   "file_extension": ".py",
   "mimetype": "text/x-python",
   "name": "python",
   "nbconvert_exporter": "python",
   "pygments_lexer": "ipython3",
   "version": "3.11.7"
  }
 },
 "nbformat": 4,
 "nbformat_minor": 2
}
